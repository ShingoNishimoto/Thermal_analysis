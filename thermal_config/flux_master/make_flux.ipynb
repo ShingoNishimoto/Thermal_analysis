{
 "cells": [
  {
   "cell_type": "code",
   "execution_count": 2,
   "metadata": {},
   "outputs": [],
   "source": [
    "import math\n",
    "import pandas as pd\n",
    "import numpy as np\n",
    "import csv"
   ]
  },
  {
   "cell_type": "code",
   "execution_count": 110,
   "metadata": {},
   "outputs": [
    {
     "output_type": "stream",
     "name": "stdout",
     "text": [
      "    time[s]  flux[W/m2]   phi[deg]  theta[deg]\n0       0.0      1336.0  91.840326  101.571338\n1     100.0      1336.0  90.695001  101.694173\n2     200.0      1336.0  89.543166  101.705453\n3     300.0      1336.0  88.399380  101.606213\n4     400.0      1336.0  87.266868  101.395321\n..      ...         ...        ...         ...\n58  37300.0      1336.0  97.542779   99.004943\n59  37400.0      1336.0  96.623184   99.699270\n60  37500.0      1336.0  95.636873  100.299783\n61  37600.0      1336.0  94.596903  100.799546\n62  37700.0      1336.0  93.517219  101.194030\n\n[378 rows x 4 columns]\nwinter/winter3_flux.csv\n"
     ]
    }
   ],
   "source": [
    "#元データを100行ずつくらいに分けたい\n",
    "def make_sparse_data(file_name):\n",
    "    flux = pd.read_csv(file_name)\n",
    "    cols = flux.columns.values[1:5]\n",
    "    cols = np.insert(cols,0,\"Time[s]\")\n",
    "    #print(cols)\n",
    "    sparse_flux = pd.DataFrame(columns=cols)\n",
    "    for i in range(len(flux.index)//100):\n",
    "        flux_series = flux.iloc[i*100,0:5]\n",
    "        flux_series.index = cols\n",
    "        #print(flux_series)\n",
    "        sparse_flux = sparse_flux.append(flux_series)\n",
    "    #print(sparse_flux.head(20))\n",
    "    return sparse_flux\n",
    "\n",
    "def calcu_angle(flux_pd):\n",
    "    x = flux_pd.iloc[:,1].values\n",
    "    y = flux_pd.iloc[:,2].values\n",
    "    z = flux_pd.iloc[:,3].values\n",
    "    phi = np.arccos(z)\n",
    "    #print(phi*180/np.pi)\n",
    "    sin_phi = np.sin(phi)\n",
    "    theta = np.arccos(x/sin_phi)\n",
    "    #print(theta*180/np.pi)\n",
    "    flux_direction = pd.DataFrame(columns=['time','phi','theta','shadow_func'])\n",
    "    time = flux_pd.iloc[:,0].values\n",
    "    phi_deg = phi*180/np.pi\n",
    "    theta_deg = theta*180/np.pi\n",
    "    shadow = flux_pd.iloc[:,4].values\n",
    "    flux_direction = flux_direction.assign(time=time,phi=phi_deg,theta=theta_deg,shadow_func=shadow)\n",
    "    #print(flux_direction)\n",
    "    return flux_direction\n",
    "\n",
    "\n",
    "def calcu_flux(flux_pd):\n",
    "    base_flux = 1366 #[W/m2]\n",
    "    shadow = flux_pd.iloc[:,3].values\n",
    "    flux = shadow*1336\n",
    "    flux_pd.insert(1,'flux',flux)\n",
    "    #print(flux_pd)\n",
    "\n",
    "def append_multiple_times(flux_pd,n):\n",
    "    out_flux = flux_pd.iloc[:,0:4]\n",
    "    #out_flux.columns = ['time[s]','flux[W/m2]','phi[deg]','theta[deg]']\n",
    "    new_flux = out_flux.copy()\n",
    "    for i in range(n-1):\n",
    "        last_time = new_flux.iloc[len(out_flux)-1,0]\n",
    "        #print(last_time)\n",
    "        time = out_flux.iloc[:,0].values + last_time + 100\n",
    "        #print(time)\n",
    "        out_flux = out_flux.assign(time=time)\n",
    "        new_flux = new_flux.append(out_flux)\n",
    "    new_flux.columns = ['time[s]','flux[W/m2]','phi[deg]','theta[deg]']\n",
    "    print(new_flux)\n",
    "    return new_flux\n",
    "\n",
    "\n",
    "def make_output_file(flux_pd,file_name):\n",
    "    flux_pd.to_csv(file_name,index=None)\n",
    "\n",
    "    \n",
    "\n",
    "\n",
    "file_ = \"winter/winter3.csv\"\n",
    "Flux_pd = make_sparse_data(file_)\n",
    "angle_pd = calcu_angle(Flux_pd)\n",
    "calcu_flux(angle_pd)\n",
    "out_pd = append_multiple_times(angle_pd,6)\n",
    "file_name = file_[0:-4] + '_flux.csv'\n",
    "print(file_name)\n",
    "make_output_file(out_pd,file_name)"
   ]
  },
  {
   "cell_type": "code",
   "execution_count": null,
   "metadata": {},
   "outputs": [],
   "source": []
  }
 ],
 "metadata": {
  "kernelspec": {
   "display_name": "Python 3",
   "language": "python",
   "name": "python3"
  },
  "language_info": {
   "codemirror_mode": {
    "name": "ipython",
    "version": 3
   },
   "file_extension": ".py",
   "mimetype": "text/x-python",
   "name": "python",
   "nbconvert_exporter": "python",
   "pygments_lexer": "ipython3",
   "version": "3.9.0-final"
  }
 },
 "nbformat": 4,
 "nbformat_minor": 4
}