{
 "cells": [
  {
   "cell_type": "code",
   "execution_count": 9,
   "metadata": {},
   "outputs": [],
   "source": [
    "from math import *\n",
    "import numpy as np\n",
    "import matplotlib.pyplot as plt"
   ]
  },
  {
   "cell_type": "markdown",
   "metadata": {},
   "source": [
    "Nodeと面は違うよね、  \n",
    "温度はNodeごとに定義するんじゃない？じゃあ、Nodeの中にいくつかの面が取り込まれる方式になるはず、いやこれも違う、Nodeは面と独立  \n",
    "Node間の関係はグラフ理論のやつ使ったらえんかな、データ構造的に工夫して格納しても良いけど  \n",
    "Environmentはどうしよ、全体として  \n",
    "\n",
    "基本的に熱平衡方程式は各ノード間、"
   ]
  },
  {
   "cell_type": "code",
   "execution_count": 8,
   "metadata": {},
   "outputs": [
    {
     "ename": "SyntaxError",
     "evalue": "unexpected EOF while parsing (<ipython-input-8-33eae08c3ef2>, line 22)",
     "output_type": "error",
     "traceback": [
      "\u001b[0;36m  File \u001b[0;32m\"<ipython-input-8-33eae08c3ef2>\"\u001b[0;36m, line \u001b[0;32m22\u001b[0m\n\u001b[0;31m    \u001b[0m\n\u001b[0m    ^\u001b[0m\n\u001b[0;31mSyntaxError\u001b[0m\u001b[0;31m:\u001b[0m unexpected EOF while parsing\n"
     ]
    }
   ],
   "source": [
    "#CubeSatを仮定\n",
    "class Spacecraft:\n",
    "    def __init__(self, node_num, size, tamperature, surface_char):\n",
    "        self.node_number = node_num\n",
    "        self.size = size #sizeは小さい順に入力\n",
    "        self.temperature = temperature\n",
    "        self.surface_characteristics = surface_char\n",
    "        self.surface = {} #面の名前：面積，方向\n",
    "        self.node = {} #nodeが温度、表面特性(α，ε)、各ノード間の温度伝達係数、形態係数\n",
    "    #directionは小さい面から順にx,y,zとする\n",
    "    def sc_area(self):\n",
    "        l0, l1, l2 = self.size\n",
    "        return (l0*l1, l0*l2, l1*l2)\n",
    "    def ini_surface(self):\n",
    "        area = sc_area(self)*2\n",
    "        surface_name = [\"px\", \"py\", \"pz\", \"mx\", \"my\", \"mz\"]\n",
    "        direction = [(1,0,0), (0,1,0), (0,0,1), (-1,0,0), (0,-1,0), (0,0,-1)]\n",
    "        for i in range(len(surface_name)):\n",
    "            self.surface[surface_name[i]] = {\"area\":area[i], \"direction\":direction[i], \"surface_char\":self.surface_characteristics[i]}\n",
    "    def ini_node(self):\n",
    "        self.node[] = {\"temperature\":self.temperature, }\n",
    "        \n",
    "class Enviromment:\n",
    "    def __init__(self, ):\n",
    "        \n",
    "\n",
    "        \n",
    "class Node:\n",
    "    def __init__(self):\n",
    "        \n",
    "        \n",
    "\n",
    "class Thermal_equation:\n",
    "    def __init__(self, Node_i, other_Nodes):\n",
    "        self.Node_i = Node_i\n",
    "        self.Node_j = other_Nodes\n",
    "        sel\n",
    "        \n",
    "    def Newton_method(self):\n",
    "        \n",
    "    \n",
    "    def RungeKutta4(self):\n",
    "        "
   ]
  },
  {
   "cell_type": "code",
   "execution_count": null,
   "metadata": {},
   "outputs": [],
   "source": []
  },
  {
   "cell_type": "code",
   "execution_count": null,
   "metadata": {},
   "outputs": [],
   "source": [
    "node_num = 1 #number of Node\n",
    "size = (12, 24, 36) #cm 6U\n",
    "temperature = (25.0) #℃\n",
    "surface_char = ()"
   ]
  }
 ],
 "metadata": {
  "kernelspec": {
   "display_name": "Python 3",
   "language": "python",
   "name": "python3"
  },
  "language_info": {
   "codemirror_mode": {
    "name": "ipython",
    "version": 3
   },
   "file_extension": ".py",
   "mimetype": "text/x-python",
   "name": "python",
   "nbconvert_exporter": "python",
   "pygments_lexer": "ipython3",
   "version": "3.7.3"
  }
 },
 "nbformat": 4,
 "nbformat_minor": 2
}
